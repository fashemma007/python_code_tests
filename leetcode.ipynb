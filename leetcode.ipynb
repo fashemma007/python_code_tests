{
 "cells": [
  {
   "cell_type": "markdown",
   "metadata": {},
   "source": [
    "#### Two Sums"
   ]
  },
  {
   "cell_type": "code",
   "execution_count": null,
   "metadata": {},
   "outputs": [],
   "source": [
    "class Solution:\n",
    "    def twoSum(self, nums: List[int], target: int) -> List[int]:\n",
    "        for i in range(len(nums)):\n",
    "            for j in range(i + 1, len(nums)):\n",
    "                if nums[j] == target - nums[i]:\n",
    "                    return [i, j]"
   ]
  },
  {
   "cell_type": "code",
   "execution_count": 17,
   "metadata": {},
   "outputs": [
    {
     "data": {
      "text/plain": [
       "[0, 1]"
      ]
     },
     "execution_count": 17,
     "metadata": {},
     "output_type": "execute_result"
    }
   ],
   "source": [
    "class Solution:\n",
    "    def twoSum(self, nums, target):\n",
    "        sums = {}\n",
    "        for i in range(len(nums)):\n",
    "            num = nums[i]\n",
    "            chk = target  - num\n",
    "            if num in sums:\n",
    "                return([sums[num],i])\n",
    "            else:\n",
    "                sums[chk] = i\n",
    "nums = [3,3]\n",
    "target = 6\n",
    "\n",
    "List = Solution()\n",
    "List.twoSum(nums,target)"
   ]
  },
  {
   "cell_type": "code",
   "execution_count": 18,
   "metadata": {},
   "outputs": [],
   "source": [
    "def two_sum(nums, target):\n",
    "\tfor i,j in enumerate(nums):\n",
    "\t\tif target - j in nums:\n",
    "\t\t\t# print(j,target-j)\n",
    "\t\t\treturn([i,nums.index(target-j)])"
   ]
  },
  {
   "cell_type": "code",
   "execution_count": 19,
   "metadata": {},
   "outputs": [
    {
     "data": {
      "text/plain": [
       "[0, 0]"
      ]
     },
     "execution_count": 19,
     "metadata": {},
     "output_type": "execute_result"
    }
   ],
   "source": [
    "two_sum(nums, target)"
   ]
  },
  {
   "cell_type": "markdown",
   "metadata": {},
   "source": [
    "### Palindrome"
   ]
  },
  {
   "cell_type": "code",
   "execution_count": null,
   "metadata": {},
   "outputs": [],
   "source": [
    "def isPalindrome( x: int) -> bool:\n",
    "    val = str(x)\n",
    "    return val == val[::-1]"
   ]
  },
  {
   "cell_type": "markdown",
   "metadata": {},
   "source": [
    "### FIzzBuzz"
   ]
  },
  {
   "cell_type": "code",
   "execution_count": null,
   "metadata": {},
   "outputs": [],
   "source": [
    "def fizzBuzz(n):\n",
    "    for m in range(1,(n+1)):\n",
    "        if m % 3 == 0 and m % 5 == 0:\n",
    "            print(\"FizzBuzz\")\n",
    "        elif m % 3 == 0:\n",
    "            print(\"Fizz\")\n",
    "        elif m % 5 == 0:\n",
    "            print(\"Buzz\")\n",
    "        else:\n",
    "            print(f\"{m:d}\")\n",
    "\n",
    "fizzBuzz(20)"
   ]
  }
 ],
 "metadata": {
  "kernelspec": {
   "display_name": "Python 3.9.12 ('base')",
   "language": "python",
   "name": "python3"
  },
  "language_info": {
   "codemirror_mode": {
    "name": "ipython",
    "version": 3
   },
   "file_extension": ".py",
   "mimetype": "text/x-python",
   "name": "python",
   "nbconvert_exporter": "python",
   "pygments_lexer": "ipython3",
   "version": "3.9.12"
  },
  "orig_nbformat": 4,
  "vscode": {
   "interpreter": {
    "hash": "531d16891cc6a4bc083d7631e4d46318a53d03379e744d6da0ddfc7f54406a35"
   }
  }
 },
 "nbformat": 4,
 "nbformat_minor": 2
}
